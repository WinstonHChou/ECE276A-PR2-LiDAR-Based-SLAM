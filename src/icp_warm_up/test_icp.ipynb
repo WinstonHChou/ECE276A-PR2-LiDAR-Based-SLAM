{
 "cells": [
  {
   "cell_type": "code",
   "execution_count": 10,
   "metadata": {},
   "outputs": [
    {
     "name": "stdout",
     "output_type": "stream",
     "text": [
      "env: XDG_SESSION_TYPE=x11\n"
     ]
    }
   ],
   "source": [
    "%env XDG_SESSION_TYPE=x11\n",
    "import numpy as np\n",
    "from utils import read_canonical_model, load_pc, visualize_icp_result, icp, o3d_icp, auto_guess_icp\n",
    "source_pc = read_canonical_model(\"liq_container\")\n",
    "target_pc = load_pc(\"liq_container\", 0)"
   ]
  },
  {
   "cell_type": "code",
   "execution_count": 11,
   "metadata": {},
   "outputs": [],
   "source": [
    "# Run icp\n",
    "T, error= icp(source_pc, target_pc)\n",
    "visualize_icp_result(source_pc, target_pc, T)"
   ]
  },
  {
   "cell_type": "code",
   "execution_count": 12,
   "metadata": {},
   "outputs": [],
   "source": [
    "# Run o3d_icp\n",
    "T, error = o3d_icp(source_pc, target_pc)\n",
    "visualize_icp_result(source_pc, target_pc, T)"
   ]
  },
  {
   "cell_type": "code",
   "execution_count": 9,
   "metadata": {},
   "outputs": [],
   "source": [
    "# Run auto guess icp\n",
    "T, error = auto_guess_icp(source_pc, target_pc, icp_type=\"icp\", trial=4)\n",
    "visualize_icp_result(source_pc, target_pc, T)"
   ]
  },
  {
   "cell_type": "code",
   "execution_count": 13,
   "metadata": {},
   "outputs": [],
   "source": [
    "# Run auto guess icp w/ o3d_icp\n",
    "T, error = auto_guess_icp(source_pc, target_pc, icp_type=\"o3d_icp\", trial=4)\n",
    "visualize_icp_result(source_pc, target_pc, T)"
   ]
  }
 ],
 "metadata": {
  "kernelspec": {
   "display_name": "ece276a_pr2",
   "language": "python",
   "name": "python3"
  },
  "language_info": {
   "codemirror_mode": {
    "name": "ipython",
    "version": 3
   },
   "file_extension": ".py",
   "mimetype": "text/x-python",
   "name": "python",
   "nbconvert_exporter": "python",
   "pygments_lexer": "ipython3",
   "version": "3.10.16"
  }
 },
 "nbformat": 4,
 "nbformat_minor": 2
}
